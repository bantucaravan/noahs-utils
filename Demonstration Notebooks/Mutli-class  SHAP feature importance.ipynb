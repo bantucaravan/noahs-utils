{
 "cells": [
  {
   "cell_type": "code",
   "execution_count": 1,
   "id": "4137b1db-a126-43f4-8be6-c72dc05bc384",
   "metadata": {
    "execution": {
     "iopub.execute_input": "2022-02-17T06:53:47.701082Z",
     "iopub.status.busy": "2022-02-17T06:53:47.700775Z",
     "iopub.status.idle": "2022-02-17T06:53:51.372002Z",
     "shell.execute_reply": "2022-02-17T06:53:51.370624Z",
     "shell.execute_reply.started": "2022-02-17T06:53:47.701014Z"
    },
    "tags": []
   },
   "outputs": [],
   "source": [
    "import sklearn.datasets\n",
    "from sklearn.ensemble import RandomForestClassifier\n",
    "from sklearn.model_selection import train_test_split\n",
    "from sklearn.metrics import roc_auc_score, classification_report\n",
    "from sklearn.pipeline import make_pipeline\n",
    "from sklearn.preprocessing import StandardScaler\n",
    "from sklearn.svm import SVC\n",
    "from xgboost.sklearn import XGBClassifier\n",
    "import pandas as pd\n",
    "import numpy as np\n",
    "import shap\n",
    "import seaborn as sns\n",
    "import matplotlib.pyplot as plt\n",
    "from scipy.special import expit\n",
    "import requests\n",
    "from IPython.display import display, HTML\n",
    "\n",
    "import sys\n",
    "from pathlib import Path"
   ]
  },
  {
   "cell_type": "markdown",
   "id": "5b1d43c8-7f4b-404e-9b3d-918280e5495c",
   "metadata": {},
   "source": [
    "# Load and prep Data"
   ]
  },
  {
   "cell_type": "code",
   "execution_count": null,
   "id": "64f15d12-5bd5-435e-90e9-ba603e7a1109",
   "metadata": {
    "tags": []
   },
   "outputs": [],
   "source": [
    "# to download the dataset directly use:\n",
    "# https://github.com/Kaggle/kaggle-api\n",
    "# or\n",
    "# see approaches here https://stackoverflow.com/questions/45261190/how-to-get-kaggle-competition-data-via-command-line-on-virtual-machine\n",
    "\n",
    "# Note: 'https://www.kaggle.com/tunguz/internet-firewall-data-set/download' sends you to a GUI login page, so it is necessary to provide credentials"
   ]
  },
  {
   "cell_type": "code",
   "execution_count": 2,
   "id": "a10bdb85-d8a0-4a0e-ac9d-c0727400810e",
   "metadata": {
    "execution": {
     "iopub.execute_input": "2022-02-17T06:53:52.265826Z",
     "iopub.status.busy": "2022-02-17T06:53:52.265556Z",
     "iopub.status.idle": "2022-02-17T06:53:52.271271Z",
     "shell.execute_reply": "2022-02-17T06:53:52.270051Z",
     "shell.execute_reply.started": "2022-02-17T06:53:52.265796Z"
    },
    "tags": []
   },
   "outputs": [],
   "source": [
    "data_dir = '/private/tmp'"
   ]
  },
  {
   "cell_type": "code",
   "execution_count": 4,
   "id": "033c3ceb-85dd-4c2d-9a1f-f5cc5781b1fc",
   "metadata": {
    "execution": {
     "iopub.execute_input": "2022-02-17T06:54:01.556132Z",
     "iopub.status.busy": "2022-02-17T06:54:01.555808Z",
     "iopub.status.idle": "2022-02-17T06:54:03.061251Z",
     "shell.execute_reply": "2022-02-17T06:54:03.060440Z",
     "shell.execute_reply.started": "2022-02-17T06:54:01.556082Z"
    },
    "tags": []
   },
   "outputs": [
    {
     "name": "stdout",
     "output_type": "stream",
     "text": [
      "Warning: Your Kaggle API key is readable by other users on this system! To fix this, you can run 'chmod 600 /Users/Noah.Chasek-Macfoy/.kaggle/kaggle.json'\n",
      "Downloading internet-firewall-data-set.zip to /private/tmp\n",
      "  0%|                                                | 0.00/754k [00:00<?, ?B/s]\n",
      "100%|████████████████████████████████████████| 754k/754k [00:00<00:00, 11.7MB/s]\n"
     ]
    }
   ],
   "source": [
    "# see for kaggle CLI install instructions and set up API credentials: https://github.com/Kaggle/kaggle-api\n",
    "!kaggle datasets download tunguz/internet-firewall-data-set -p $data_dir --unzip"
   ]
  },
  {
   "cell_type": "code",
   "execution_count": 5,
   "id": "c3cf704c-209b-45ac-938d-e92e8d0926a7",
   "metadata": {
    "execution": {
     "iopub.execute_input": "2022-02-17T06:54:13.553823Z",
     "iopub.status.busy": "2022-02-17T06:54:13.553512Z",
     "iopub.status.idle": "2022-02-17T06:54:13.666483Z",
     "shell.execute_reply": "2022-02-17T06:54:13.665345Z",
     "shell.execute_reply.started": "2022-02-17T06:54:13.553790Z"
    },
    "tags": []
   },
   "outputs": [
    {
     "data": {
      "text/html": [
       "<div>\n",
       "<style scoped>\n",
       "    .dataframe tbody tr th:only-of-type {\n",
       "        vertical-align: middle;\n",
       "    }\n",
       "\n",
       "    .dataframe tbody tr th {\n",
       "        vertical-align: top;\n",
       "    }\n",
       "\n",
       "    .dataframe thead th {\n",
       "        text-align: right;\n",
       "    }\n",
       "</style>\n",
       "<table border=\"1\" class=\"dataframe\">\n",
       "  <thead>\n",
       "    <tr style=\"text-align: right;\">\n",
       "      <th></th>\n",
       "      <th>Source Port</th>\n",
       "      <th>Destination Port</th>\n",
       "      <th>NAT Source Port</th>\n",
       "      <th>NAT Destination Port</th>\n",
       "      <th>Action</th>\n",
       "      <th>Bytes</th>\n",
       "      <th>Bytes Sent</th>\n",
       "      <th>Bytes Received</th>\n",
       "      <th>Packets</th>\n",
       "      <th>Elapsed Time (sec)</th>\n",
       "      <th>pkts_sent</th>\n",
       "      <th>pkts_received</th>\n",
       "    </tr>\n",
       "  </thead>\n",
       "  <tbody>\n",
       "    <tr>\n",
       "      <th>0</th>\n",
       "      <td>57222</td>\n",
       "      <td>53</td>\n",
       "      <td>54587</td>\n",
       "      <td>53</td>\n",
       "      <td>allow</td>\n",
       "      <td>177</td>\n",
       "      <td>94</td>\n",
       "      <td>83</td>\n",
       "      <td>2</td>\n",
       "      <td>30</td>\n",
       "      <td>1</td>\n",
       "      <td>1</td>\n",
       "    </tr>\n",
       "    <tr>\n",
       "      <th>1</th>\n",
       "      <td>56258</td>\n",
       "      <td>3389</td>\n",
       "      <td>56258</td>\n",
       "      <td>3389</td>\n",
       "      <td>allow</td>\n",
       "      <td>4768</td>\n",
       "      <td>1600</td>\n",
       "      <td>3168</td>\n",
       "      <td>19</td>\n",
       "      <td>17</td>\n",
       "      <td>10</td>\n",
       "      <td>9</td>\n",
       "    </tr>\n",
       "    <tr>\n",
       "      <th>2</th>\n",
       "      <td>6881</td>\n",
       "      <td>50321</td>\n",
       "      <td>43265</td>\n",
       "      <td>50321</td>\n",
       "      <td>allow</td>\n",
       "      <td>238</td>\n",
       "      <td>118</td>\n",
       "      <td>120</td>\n",
       "      <td>2</td>\n",
       "      <td>1199</td>\n",
       "      <td>1</td>\n",
       "      <td>1</td>\n",
       "    </tr>\n",
       "    <tr>\n",
       "      <th>3</th>\n",
       "      <td>50553</td>\n",
       "      <td>3389</td>\n",
       "      <td>50553</td>\n",
       "      <td>3389</td>\n",
       "      <td>allow</td>\n",
       "      <td>3327</td>\n",
       "      <td>1438</td>\n",
       "      <td>1889</td>\n",
       "      <td>15</td>\n",
       "      <td>17</td>\n",
       "      <td>8</td>\n",
       "      <td>7</td>\n",
       "    </tr>\n",
       "    <tr>\n",
       "      <th>4</th>\n",
       "      <td>50002</td>\n",
       "      <td>443</td>\n",
       "      <td>45848</td>\n",
       "      <td>443</td>\n",
       "      <td>allow</td>\n",
       "      <td>25358</td>\n",
       "      <td>6778</td>\n",
       "      <td>18580</td>\n",
       "      <td>31</td>\n",
       "      <td>16</td>\n",
       "      <td>13</td>\n",
       "      <td>18</td>\n",
       "    </tr>\n",
       "  </tbody>\n",
       "</table>\n",
       "</div>"
      ],
      "text/plain": [
       "   Source Port  Destination Port  NAT Source Port  NAT Destination Port  \\\n",
       "0        57222                53            54587                    53   \n",
       "1        56258              3389            56258                  3389   \n",
       "2         6881             50321            43265                 50321   \n",
       "3        50553              3389            50553                  3389   \n",
       "4        50002               443            45848                   443   \n",
       "\n",
       "  Action  Bytes  Bytes Sent  Bytes Received  Packets  Elapsed Time (sec)  \\\n",
       "0  allow    177          94              83        2                  30   \n",
       "1  allow   4768        1600            3168       19                  17   \n",
       "2  allow    238         118             120        2                1199   \n",
       "3  allow   3327        1438            1889       15                  17   \n",
       "4  allow  25358        6778           18580       31                  16   \n",
       "\n",
       "   pkts_sent  pkts_received  \n",
       "0          1              1  \n",
       "1         10              9  \n",
       "2          1              1  \n",
       "3          8              7  \n",
       "4         13             18  "
      ]
     },
     "execution_count": 5,
     "metadata": {},
     "output_type": "execute_result"
    }
   ],
   "source": [
    "# https://www.kaggle.com/tunguz/internet-firewall-data-set/download\n",
    "path = Path(data_dir, 'log2.csv')\n",
    "df = pd.read_csv(path)\n",
    "df.head()"
   ]
  },
  {
   "cell_type": "code",
   "execution_count": null,
   "id": "1c0641bf-6446-470e-899d-44d9706050c0",
   "metadata": {},
   "outputs": [],
   "source": [
    "# Data notes: all numeric continuous features"
   ]
  },
  {
   "cell_type": "code",
   "execution_count": 6,
   "id": "36834000-daee-4133-815c-654de7efa6f6",
   "metadata": {
    "execution": {
     "iopub.execute_input": "2022-02-17T06:54:21.480254Z",
     "iopub.status.busy": "2022-02-17T06:54:21.479848Z",
     "iopub.status.idle": "2022-02-17T06:54:21.522795Z",
     "shell.execute_reply": "2022-02-17T06:54:21.521396Z",
     "shell.execute_reply.started": "2022-02-17T06:54:21.480204Z"
    },
    "tags": []
   },
   "outputs": [
    {
     "name": "stdout",
     "output_type": "stream",
     "text": [
      "feat dims: (65532, 11)\n",
      "target class counts:\n"
     ]
    },
    {
     "data": {
      "text/plain": [
       "allow         37640\n",
       "deny          14987\n",
       "drop          12851\n",
       "reset-both       54\n",
       "Name: Action, dtype: int64"
      ]
     },
     "metadata": {},
     "output_type": "display_data"
    }
   ],
   "source": [
    "# prep and split data\n",
    "\n",
    "y = df['Action']\n",
    "X = df.drop('Action',axis=1)\n",
    "\n",
    "print('feat dims:', X.shape)\n",
    "print('target class counts:')\n",
    "display(y.value_counts())\n",
    "\n",
    "X_train, X_test, y_train, y_test = train_test_split(X, y, random_state=0)"
   ]
  },
  {
   "cell_type": "markdown",
   "id": "374796da-a527-4727-961d-692828dbdf74",
   "metadata": {},
   "source": [
    "# Fit and Evaluate Models"
   ]
  },
  {
   "cell_type": "markdown",
   "id": "641e13fd-f05a-4755-ac3f-d6de32e24918",
   "metadata": {},
   "source": [
    "## Sklearn Random Forest"
   ]
  },
  {
   "cell_type": "code",
   "execution_count": 13,
   "id": "e87c8e18-3604-408c-ba22-e7e21a66564a",
   "metadata": {
    "execution": {
     "iopub.execute_input": "2022-02-11T23:12:35.418811Z",
     "iopub.status.busy": "2022-02-11T23:12:35.418392Z",
     "iopub.status.idle": "2022-02-11T23:12:37.057290Z",
     "shell.execute_reply": "2022-02-11T23:12:37.056239Z",
     "shell.execute_reply.started": "2022-02-11T23:12:35.418735Z"
    },
    "tags": []
   },
   "outputs": [
    {
     "data": {
      "text/plain": [
       "RandomForestClassifier(max_depth=3, random_state=0)"
      ]
     },
     "execution_count": 13,
     "metadata": {},
     "output_type": "execute_result"
    }
   ],
   "source": [
    "# Train predictive model\n",
    "\n",
    "cls_skl = RandomForestClassifier(max_depth=3, n_estimators=100, random_state=0)\n",
    "cls_skl.fit(X_train, y_train)"
   ]
  },
  {
   "cell_type": "code",
   "execution_count": 14,
   "id": "f05214a6-68c1-439b-a46f-368d38bc094e",
   "metadata": {
    "execution": {
     "iopub.execute_input": "2022-02-11T23:12:37.059420Z",
     "iopub.status.busy": "2022-02-11T23:12:37.059132Z",
     "iopub.status.idle": "2022-02-11T23:12:37.536144Z",
     "shell.execute_reply": "2022-02-11T23:12:37.535220Z",
     "shell.execute_reply.started": "2022-02-11T23:12:37.059391Z"
    },
    "tags": []
   },
   "outputs": [
    {
     "name": "stderr",
     "output_type": "stream",
     "text": [
      "Precision and F-score are ill-defined and being set to 0.0 in labels with no predicted samples. Use `zero_division` parameter to control this behavior.\n",
      "Precision and F-score are ill-defined and being set to 0.0 in labels with no predicted samples. Use `zero_division` parameter to control this behavior.\n",
      "Precision and F-score are ill-defined and being set to 0.0 in labels with no predicted samples. Use `zero_division` parameter to control this behavior.\n"
     ]
    },
    {
     "data": {
      "text/html": [
       "<div>\n",
       "<style scoped>\n",
       "    .dataframe tbody tr th:only-of-type {\n",
       "        vertical-align: middle;\n",
       "    }\n",
       "\n",
       "    .dataframe tbody tr th {\n",
       "        vertical-align: top;\n",
       "    }\n",
       "\n",
       "    .dataframe thead th {\n",
       "        text-align: right;\n",
       "    }\n",
       "</style>\n",
       "<table border=\"1\" class=\"dataframe\">\n",
       "  <thead>\n",
       "    <tr style=\"text-align: right;\">\n",
       "      <th></th>\n",
       "      <th>allow</th>\n",
       "      <th>deny</th>\n",
       "      <th>drop</th>\n",
       "      <th>reset-both</th>\n",
       "      <th>accuracy</th>\n",
       "      <th>macro avg</th>\n",
       "      <th>weighted avg</th>\n",
       "    </tr>\n",
       "  </thead>\n",
       "  <tbody>\n",
       "    <tr>\n",
       "      <th>precision</th>\n",
       "      <td>0.999360</td>\n",
       "      <td>0.992318</td>\n",
       "      <td>0.994431</td>\n",
       "      <td>0.0</td>\n",
       "      <td>0.996765</td>\n",
       "      <td>0.746527</td>\n",
       "      <td>0.996163</td>\n",
       "    </tr>\n",
       "    <tr>\n",
       "      <th>recall</th>\n",
       "      <td>0.997764</td>\n",
       "      <td>0.994161</td>\n",
       "      <td>1.000000</td>\n",
       "      <td>0.0</td>\n",
       "      <td>0.996765</td>\n",
       "      <td>0.747981</td>\n",
       "      <td>0.996765</td>\n",
       "    </tr>\n",
       "    <tr>\n",
       "      <th>f1-score</th>\n",
       "      <td>0.998561</td>\n",
       "      <td>0.993239</td>\n",
       "      <td>0.997208</td>\n",
       "      <td>0.0</td>\n",
       "      <td>0.996765</td>\n",
       "      <td>0.747252</td>\n",
       "      <td>0.996462</td>\n",
       "    </tr>\n",
       "    <tr>\n",
       "      <th>support</th>\n",
       "      <td>9391.000000</td>\n",
       "      <td>3768.000000</td>\n",
       "      <td>3214.000000</td>\n",
       "      <td>10.0</td>\n",
       "      <td>0.996765</td>\n",
       "      <td>16383.000000</td>\n",
       "      <td>16383.000000</td>\n",
       "    </tr>\n",
       "  </tbody>\n",
       "</table>\n",
       "</div>"
      ],
      "text/plain": [
       "                 allow         deny         drop  reset-both  accuracy  \\\n",
       "precision     0.999360     0.992318     0.994431         0.0  0.996765   \n",
       "recall        0.997764     0.994161     1.000000         0.0  0.996765   \n",
       "f1-score      0.998561     0.993239     0.997208         0.0  0.996765   \n",
       "support    9391.000000  3768.000000  3214.000000        10.0  0.996765   \n",
       "\n",
       "              macro avg  weighted avg  \n",
       "precision      0.746527      0.996163  \n",
       "recall         0.747981      0.996765  \n",
       "f1-score       0.747252      0.996462  \n",
       "support    16383.000000  16383.000000  "
      ]
     },
     "execution_count": 14,
     "metadata": {},
     "output_type": "execute_result"
    }
   ],
   "source": [
    "# evaluate model performance\n",
    "\n",
    "cls = cls_skl\n",
    "proba_preds = cls.predict_proba(X_test)\n",
    "preds = cls.classes_[proba_preds.argmax(axis=1)]\n",
    "\n",
    "pd.DataFrame(classification_report(y_test, preds, output_dict=True))\n",
    "# near perfect accuracy # (xgboost is better with the tiny minority class)\n",
    "\n"
   ]
  },
  {
   "cell_type": "markdown",
   "id": "238be843-3b75-4d39-8eaf-6daccf956ba1",
   "metadata": {},
   "source": [
    "## XGBoost"
   ]
  },
  {
   "cell_type": "code",
   "execution_count": 15,
   "id": "92cf75a3-57fb-4418-83d5-538932ef3e15",
   "metadata": {
    "execution": {
     "iopub.execute_input": "2022-02-11T23:12:42.733707Z",
     "iopub.status.busy": "2022-02-11T23:12:42.733204Z",
     "iopub.status.idle": "2022-02-11T23:12:51.054611Z",
     "shell.execute_reply": "2022-02-11T23:12:51.053890Z",
     "shell.execute_reply.started": "2022-02-11T23:12:42.733655Z"
    },
    "tags": []
   },
   "outputs": [
    {
     "name": "stderr",
     "output_type": "stream",
     "text": [
      "The use of label encoder in XGBClassifier is deprecated and will be removed in a future release. To remove this warning, do the following: 1) Pass option use_label_encoder=False when constructing XGBClassifier object; and 2) Encode your labels (y) as integers starting with 0, i.e. 0, 1, 2, ..., [num_class - 1].\n"
     ]
    },
    {
     "name": "stdout",
     "output_type": "stream",
     "text": [
      "[16:12:42] WARNING: /Users/runner/work/xgboost/xgboost/src/learner.cc:1115: Starting in XGBoost 1.3.0, the default evaluation metric used with the objective 'multi:softprob' was changed from 'merror' to 'mlogloss'. Explicitly set eval_metric if you'd like to restore the old behavior.\n"
     ]
    },
    {
     "data": {
      "text/plain": [
       "XGBClassifier(base_score=0.5, booster='gbtree', colsample_bylevel=1,\n",
       "              colsample_bynode=1, colsample_bytree=1, enable_categorical=False,\n",
       "              gamma=0, gpu_id=-1, importance_type=None,\n",
       "              interaction_constraints='', learning_rate=0.300000012,\n",
       "              max_delta_step=0, max_depth=3, min_child_weight=10, missing=nan,\n",
       "              monotone_constraints='()', n_estimators=400, n_jobs=8,\n",
       "              num_parallel_tree=1, objective='multi:softprob', predictor='auto',\n",
       "              random_state=0, reg_alpha=0, reg_lambda=1, scale_pos_weight=None,\n",
       "              subsample=1, tree_method='exact', validate_parameters=1,\n",
       "              verbosity=None)"
      ]
     },
     "execution_count": 15,
     "metadata": {},
     "output_type": "execute_result"
    }
   ],
   "source": [
    "cls_xgb = XGBClassifier(n_estimators=400, max_depth=3, min_child_weight=10)\n",
    "cls_xgb.fit(X_train, y_train)"
   ]
  },
  {
   "cell_type": "code",
   "execution_count": 16,
   "id": "864416ae-7a8d-4aad-aaac-2e1a3e948153",
   "metadata": {
    "execution": {
     "iopub.execute_input": "2022-02-11T23:12:51.056727Z",
     "iopub.status.busy": "2022-02-11T23:12:51.056347Z",
     "iopub.status.idle": "2022-02-11T23:12:51.498787Z",
     "shell.execute_reply": "2022-02-11T23:12:51.497932Z",
     "shell.execute_reply.started": "2022-02-11T23:12:51.056694Z"
    },
    "tags": []
   },
   "outputs": [
    {
     "data": {
      "text/html": [
       "<div>\n",
       "<style scoped>\n",
       "    .dataframe tbody tr th:only-of-type {\n",
       "        vertical-align: middle;\n",
       "    }\n",
       "\n",
       "    .dataframe tbody tr th {\n",
       "        vertical-align: top;\n",
       "    }\n",
       "\n",
       "    .dataframe thead th {\n",
       "        text-align: right;\n",
       "    }\n",
       "</style>\n",
       "<table border=\"1\" class=\"dataframe\">\n",
       "  <thead>\n",
       "    <tr style=\"text-align: right;\">\n",
       "      <th></th>\n",
       "      <th>allow</th>\n",
       "      <th>deny</th>\n",
       "      <th>drop</th>\n",
       "      <th>reset-both</th>\n",
       "      <th>accuracy</th>\n",
       "      <th>macro avg</th>\n",
       "      <th>weighted avg</th>\n",
       "    </tr>\n",
       "  </thead>\n",
       "  <tbody>\n",
       "    <tr>\n",
       "      <th>precision</th>\n",
       "      <td>1.000000</td>\n",
       "      <td>0.997347</td>\n",
       "      <td>0.997517</td>\n",
       "      <td>1.000000</td>\n",
       "      <td>0.998901</td>\n",
       "      <td>0.998716</td>\n",
       "      <td>0.998903</td>\n",
       "    </tr>\n",
       "    <tr>\n",
       "      <th>recall</th>\n",
       "      <td>0.999574</td>\n",
       "      <td>0.997877</td>\n",
       "      <td>1.000000</td>\n",
       "      <td>0.400000</td>\n",
       "      <td>0.998901</td>\n",
       "      <td>0.849363</td>\n",
       "      <td>0.998901</td>\n",
       "    </tr>\n",
       "    <tr>\n",
       "      <th>f1-score</th>\n",
       "      <td>0.999787</td>\n",
       "      <td>0.997612</td>\n",
       "      <td>0.998757</td>\n",
       "      <td>0.571429</td>\n",
       "      <td>0.998901</td>\n",
       "      <td>0.891896</td>\n",
       "      <td>0.998823</td>\n",
       "    </tr>\n",
       "    <tr>\n",
       "      <th>support</th>\n",
       "      <td>9391.000000</td>\n",
       "      <td>3768.000000</td>\n",
       "      <td>3214.000000</td>\n",
       "      <td>10.000000</td>\n",
       "      <td>0.998901</td>\n",
       "      <td>16383.000000</td>\n",
       "      <td>16383.000000</td>\n",
       "    </tr>\n",
       "  </tbody>\n",
       "</table>\n",
       "</div>"
      ],
      "text/plain": [
       "                 allow         deny         drop  reset-both  accuracy  \\\n",
       "precision     1.000000     0.997347     0.997517    1.000000  0.998901   \n",
       "recall        0.999574     0.997877     1.000000    0.400000  0.998901   \n",
       "f1-score      0.999787     0.997612     0.998757    0.571429  0.998901   \n",
       "support    9391.000000  3768.000000  3214.000000   10.000000  0.998901   \n",
       "\n",
       "              macro avg  weighted avg  \n",
       "precision      0.998716      0.998903  \n",
       "recall         0.849363      0.998901  \n",
       "f1-score       0.891896      0.998823  \n",
       "support    16383.000000  16383.000000  "
      ]
     },
     "execution_count": 16,
     "metadata": {},
     "output_type": "execute_result"
    }
   ],
   "source": [
    "# evaluate model performance\n",
    "\n",
    "cls = cls_xgb\n",
    "proba_preds = cls.predict_proba(X_test)\n",
    "preds = cls.classes_[proba_preds.argmax(axis=1)]\n",
    "\n",
    "pd.DataFrame(classification_report(y_test, preds, output_dict=True))\n",
    "# near perfect accuracy # (xgboost is better with the tiny minority class)\n"
   ]
  },
  {
   "cell_type": "markdown",
   "id": "f6844848-180a-46fd-bf11-03c4961805ec",
   "metadata": {},
   "source": [
    "## Sklearn SVM"
   ]
  },
  {
   "cell_type": "code",
   "execution_count": 27,
   "id": "fa1ca777-4078-4366-930c-7119b9549a58",
   "metadata": {
    "execution": {
     "iopub.execute_input": "2022-02-11T23:53:20.658971Z",
     "iopub.status.busy": "2022-02-11T23:53:20.658516Z",
     "iopub.status.idle": "2022-02-11T23:54:37.036569Z",
     "shell.execute_reply": "2022-02-11T23:54:37.035897Z",
     "shell.execute_reply.started": "2022-02-11T23:53:20.658915Z"
    },
    "tags": []
   },
   "outputs": [
    {
     "data": {
      "text/plain": [
       "Pipeline(steps=[('standardscaler', StandardScaler()),\n",
       "                ('svc', SVC(gamma='auto', probability=True))])"
      ]
     },
     "execution_count": 27,
     "metadata": {},
     "output_type": "execute_result"
    }
   ],
   "source": [
    "\n",
    "\n",
    "\n",
    "cls_svm = make_pipeline(StandardScaler(), SVC(gamma='auto', kernel='rbf', probability=True))\n",
    "cls_svm.fit(X_train, y_train)\n",
    "\n",
    "# sloooow compared to RF and XGB!!! probably because the one-vs-one multiclass approach (also further much extended bc probability=True which does 5-fold cv for each ?class?)"
   ]
  },
  {
   "cell_type": "code",
   "execution_count": 28,
   "id": "709ff4ff-768a-407f-a963-49b932f4eb5a",
   "metadata": {
    "execution": {
     "iopub.execute_input": "2022-02-11T23:55:18.126397Z",
     "iopub.status.busy": "2022-02-11T23:55:18.126142Z",
     "iopub.status.idle": "2022-02-11T23:55:23.129640Z",
     "shell.execute_reply": "2022-02-11T23:55:23.128519Z",
     "shell.execute_reply.started": "2022-02-11T23:55:18.126370Z"
    },
    "tags": []
   },
   "outputs": [
    {
     "name": "stderr",
     "output_type": "stream",
     "text": [
      "Precision and F-score are ill-defined and being set to 0.0 in labels with no predicted samples. Use `zero_division` parameter to control this behavior.\n",
      "Precision and F-score are ill-defined and being set to 0.0 in labels with no predicted samples. Use `zero_division` parameter to control this behavior.\n",
      "Precision and F-score are ill-defined and being set to 0.0 in labels with no predicted samples. Use `zero_division` parameter to control this behavior.\n"
     ]
    },
    {
     "data": {
      "text/html": [
       "<div>\n",
       "<style scoped>\n",
       "    .dataframe tbody tr th:only-of-type {\n",
       "        vertical-align: middle;\n",
       "    }\n",
       "\n",
       "    .dataframe tbody tr th {\n",
       "        vertical-align: top;\n",
       "    }\n",
       "\n",
       "    .dataframe thead th {\n",
       "        text-align: right;\n",
       "    }\n",
       "</style>\n",
       "<table border=\"1\" class=\"dataframe\">\n",
       "  <thead>\n",
       "    <tr style=\"text-align: right;\">\n",
       "      <th></th>\n",
       "      <th>allow</th>\n",
       "      <th>deny</th>\n",
       "      <th>drop</th>\n",
       "      <th>reset-both</th>\n",
       "      <th>accuracy</th>\n",
       "      <th>macro avg</th>\n",
       "      <th>weighted avg</th>\n",
       "    </tr>\n",
       "  </thead>\n",
       "  <tbody>\n",
       "    <tr>\n",
       "      <th>precision</th>\n",
       "      <td>0.999358</td>\n",
       "      <td>0.990000</td>\n",
       "      <td>0.962275</td>\n",
       "      <td>0.0</td>\n",
       "      <td>0.989684</td>\n",
       "      <td>0.737908</td>\n",
       "      <td>0.989321</td>\n",
       "    </tr>\n",
       "    <tr>\n",
       "      <th>recall</th>\n",
       "      <td>0.994250</td>\n",
       "      <td>0.972134</td>\n",
       "      <td>1.000000</td>\n",
       "      <td>0.0</td>\n",
       "      <td>0.989684</td>\n",
       "      <td>0.741596</td>\n",
       "      <td>0.989684</td>\n",
       "    </tr>\n",
       "    <tr>\n",
       "      <th>f1-score</th>\n",
       "      <td>0.996797</td>\n",
       "      <td>0.980986</td>\n",
       "      <td>0.980775</td>\n",
       "      <td>0.0</td>\n",
       "      <td>0.989684</td>\n",
       "      <td>0.739639</td>\n",
       "      <td>0.989409</td>\n",
       "    </tr>\n",
       "    <tr>\n",
       "      <th>support</th>\n",
       "      <td>9391.000000</td>\n",
       "      <td>3768.000000</td>\n",
       "      <td>3214.000000</td>\n",
       "      <td>10.0</td>\n",
       "      <td>0.989684</td>\n",
       "      <td>16383.000000</td>\n",
       "      <td>16383.000000</td>\n",
       "    </tr>\n",
       "  </tbody>\n",
       "</table>\n",
       "</div>"
      ],
      "text/plain": [
       "                 allow         deny         drop  reset-both  accuracy  \\\n",
       "precision     0.999358     0.990000     0.962275         0.0  0.989684   \n",
       "recall        0.994250     0.972134     1.000000         0.0  0.989684   \n",
       "f1-score      0.996797     0.980986     0.980775         0.0  0.989684   \n",
       "support    9391.000000  3768.000000  3214.000000        10.0  0.989684   \n",
       "\n",
       "              macro avg  weighted avg  \n",
       "precision      0.737908      0.989321  \n",
       "recall         0.741596      0.989684  \n",
       "f1-score       0.739639      0.989409  \n",
       "support    16383.000000  16383.000000  "
      ]
     },
     "execution_count": 28,
     "metadata": {},
     "output_type": "execute_result"
    }
   ],
   "source": [
    "cls = cls_svm\n",
    "preds = cls.predict(X_test)\n",
    "# cls.predict_proba(X_test) # n_samples x n_classes\n",
    "\n",
    "pd.DataFrame(classification_report(y_test, preds, output_dict=True))\n",
    "\n",
    "# worst predictive capacity"
   ]
  },
  {
   "cell_type": "markdown",
   "id": "c62638c4-6642-47a8-9c34-9f8e5749241e",
   "metadata": {
    "execution": {
     "iopub.execute_input": "2022-02-12T00:03:46.002247Z",
     "iopub.status.busy": "2022-02-12T00:03:46.001669Z",
     "iopub.status.idle": "2022-02-12T00:03:50.570155Z",
     "shell.execute_reply": "2022-02-12T00:03:50.569432Z",
     "shell.execute_reply.started": "2022-02-12T00:03:46.002176Z"
    },
    "tags": []
   },
   "source": [
    "## Sklearn Logistic Regression"
   ]
  },
  {
   "cell_type": "code",
   "execution_count": 7,
   "id": "36c75822-c875-46fb-b0a8-5ba4b0114555",
   "metadata": {
    "execution": {
     "iopub.execute_input": "2022-02-17T06:54:35.845669Z",
     "iopub.status.busy": "2022-02-17T06:54:35.845306Z",
     "iopub.status.idle": "2022-02-17T06:54:37.676403Z",
     "shell.execute_reply": "2022-02-17T06:54:37.675434Z",
     "shell.execute_reply.started": "2022-02-17T06:54:35.845639Z"
    },
    "tags": []
   },
   "outputs": [
    {
     "data": {
      "text/plain": [
       "Pipeline(steps=[('standardscaler', StandardScaler()),\n",
       "                ('logisticregression',\n",
       "                 LogisticRegression(max_iter=1000, multi_class='ovr',\n",
       "                                    penalty='none'))])"
      ]
     },
     "execution_count": 7,
     "metadata": {},
     "output_type": "execute_result"
    }
   ],
   "source": [
    "from sklearn.linear_model import LogisticRegression\n",
    "\n",
    "cls_log = make_pipeline(StandardScaler(), LogisticRegression(penalty='none', multi_class='ovr', max_iter=1000))#, solver='sag'))\n",
    "cls_log.fit(X_train, y_train)\n"
   ]
  },
  {
   "cell_type": "code",
   "execution_count": 8,
   "id": "14697142-9424-4d53-be78-181bc62253a9",
   "metadata": {
    "execution": {
     "iopub.execute_input": "2022-02-17T06:54:38.082132Z",
     "iopub.status.busy": "2022-02-17T06:54:38.081862Z",
     "iopub.status.idle": "2022-02-17T06:54:38.482937Z",
     "shell.execute_reply": "2022-02-17T06:54:38.482110Z",
     "shell.execute_reply.started": "2022-02-17T06:54:38.082102Z"
    },
    "tags": []
   },
   "outputs": [
    {
     "name": "stderr",
     "output_type": "stream",
     "text": [
      "Precision and F-score are ill-defined and being set to 0.0 in labels with no predicted samples. Use `zero_division` parameter to control this behavior.\n",
      "Precision and F-score are ill-defined and being set to 0.0 in labels with no predicted samples. Use `zero_division` parameter to control this behavior.\n",
      "Precision and F-score are ill-defined and being set to 0.0 in labels with no predicted samples. Use `zero_division` parameter to control this behavior.\n"
     ]
    },
    {
     "data": {
      "text/html": [
       "<div>\n",
       "<style scoped>\n",
       "    .dataframe tbody tr th:only-of-type {\n",
       "        vertical-align: middle;\n",
       "    }\n",
       "\n",
       "    .dataframe tbody tr th {\n",
       "        vertical-align: top;\n",
       "    }\n",
       "\n",
       "    .dataframe thead th {\n",
       "        text-align: right;\n",
       "    }\n",
       "</style>\n",
       "<table border=\"1\" class=\"dataframe\">\n",
       "  <thead>\n",
       "    <tr style=\"text-align: right;\">\n",
       "      <th></th>\n",
       "      <th>allow</th>\n",
       "      <th>deny</th>\n",
       "      <th>drop</th>\n",
       "      <th>reset-both</th>\n",
       "      <th>accuracy</th>\n",
       "      <th>macro avg</th>\n",
       "      <th>weighted avg</th>\n",
       "    </tr>\n",
       "  </thead>\n",
       "  <tbody>\n",
       "    <tr>\n",
       "      <th>precision</th>\n",
       "      <td>0.999361</td>\n",
       "      <td>0.995377</td>\n",
       "      <td>0.968364</td>\n",
       "      <td>0.0</td>\n",
       "      <td>0.992187</td>\n",
       "      <td>0.740775</td>\n",
       "      <td>0.991754</td>\n",
       "    </tr>\n",
       "    <tr>\n",
       "      <th>recall</th>\n",
       "      <td>0.998935</td>\n",
       "      <td>0.971338</td>\n",
       "      <td>1.000000</td>\n",
       "      <td>0.0</td>\n",
       "      <td>0.992187</td>\n",
       "      <td>0.742568</td>\n",
       "      <td>0.992187</td>\n",
       "    </tr>\n",
       "    <tr>\n",
       "      <th>f1-score</th>\n",
       "      <td>0.999148</td>\n",
       "      <td>0.983210</td>\n",
       "      <td>0.983928</td>\n",
       "      <td>0.0</td>\n",
       "      <td>0.992187</td>\n",
       "      <td>0.741571</td>\n",
       "      <td>0.991887</td>\n",
       "    </tr>\n",
       "    <tr>\n",
       "      <th>support</th>\n",
       "      <td>9391.000000</td>\n",
       "      <td>3768.000000</td>\n",
       "      <td>3214.000000</td>\n",
       "      <td>10.0</td>\n",
       "      <td>0.992187</td>\n",
       "      <td>16383.000000</td>\n",
       "      <td>16383.000000</td>\n",
       "    </tr>\n",
       "  </tbody>\n",
       "</table>\n",
       "</div>"
      ],
      "text/plain": [
       "                 allow         deny         drop  reset-both  accuracy  \\\n",
       "precision     0.999361     0.995377     0.968364         0.0  0.992187   \n",
       "recall        0.998935     0.971338     1.000000         0.0  0.992187   \n",
       "f1-score      0.999148     0.983210     0.983928         0.0  0.992187   \n",
       "support    9391.000000  3768.000000  3214.000000        10.0  0.992187   \n",
       "\n",
       "              macro avg  weighted avg  \n",
       "precision      0.740775      0.991754  \n",
       "recall         0.742568      0.992187  \n",
       "f1-score       0.741571      0.991887  \n",
       "support    16383.000000  16383.000000  "
      ]
     },
     "execution_count": 8,
     "metadata": {},
     "output_type": "execute_result"
    }
   ],
   "source": [
    "cls = cls_log\n",
    "proba_preds = cls.predict_proba(X_test)\n",
    "preds = cls.classes_[proba_preds.argmax(axis=1)]\n",
    "\n",
    "pd.DataFrame(classification_report(y_test, preds, output_dict=True))"
   ]
  },
  {
   "cell_type": "markdown",
   "id": "04fbf46b-9421-4096-be04-586362c11248",
   "metadata": {},
   "source": [
    "# Calculate Shap Feature Importances"
   ]
  },
  {
   "cell_type": "markdown",
   "id": "7cccaadc-5e96-454c-bd40-e3d15df89807",
   "metadata": {},
   "source": [
    "##  Sklearn Random Forest"
   ]
  },
  {
   "cell_type": "code",
   "execution_count": 19,
   "id": "40d80c33-868b-4ac1-ab85-591805845644",
   "metadata": {
    "execution": {
     "iopub.execute_input": "2022-02-11T23:23:00.508179Z",
     "iopub.status.busy": "2022-02-11T23:23:00.507778Z",
     "iopub.status.idle": "2022-02-11T23:23:01.556732Z",
     "shell.execute_reply": "2022-02-11T23:23:01.555974Z",
     "shell.execute_reply.started": "2022-02-11T23:23:00.508136Z"
    },
    "tags": []
   },
   "outputs": [],
   "source": [
    "# get shap values\n",
    "\n",
    "explainer = shap.Explainer(cls_skl)\n",
    "# explainer = shap.TreeExplainer(cls)\n",
    "\n",
    "# type(explainer)\n",
    "slicer_skl = explainer(X_test)"
   ]
  },
  {
   "cell_type": "code",
   "execution_count": 20,
   "id": "109e718c-f20c-4651-9e65-a02c0b9fdc45",
   "metadata": {
    "execution": {
     "iopub.execute_input": "2022-02-11T23:23:01.558235Z",
     "iopub.status.busy": "2022-02-11T23:23:01.558050Z",
     "iopub.status.idle": "2022-02-11T23:23:01.563965Z",
     "shell.execute_reply": "2022-02-11T23:23:01.562900Z",
     "shell.execute_reply.started": "2022-02-11T23:23:01.558214Z"
    },
    "tags": []
   },
   "outputs": [
    {
     "name": "stdout",
     "output_type": "stream",
     "text": [
      "shap values shape: (16383, 11, 4)\n",
      "global expected value per class: [0.57487863 0.2280492  0.19615536 0.0009168 ]\n"
     ]
    }
   ],
   "source": [
    "slicer = slicer_skl\n",
    "print('shap values shape:', slicer.values.shape) # one value per feature, per observation, per class\n",
    "print('global expected value per class:', explainer.expected_value)\n",
    "\n",
    "# explainer.model.predict(X_train).mean(axis=0)# hmm close but not exact, clearly on the proba scale\n",
    "# array([0.57482009, 0.22812531, 0.1961411 , 0.0009135 ])"
   ]
  },
  {
   "cell_type": "code",
   "execution_count": 163,
   "id": "84e6a90f-ad4c-4137-b615-787ec4b39c47",
   "metadata": {
    "execution": {
     "iopub.execute_input": "2022-02-05T05:56:30.312349Z",
     "iopub.status.busy": "2022-02-05T05:56:30.310983Z",
     "iopub.status.idle": "2022-02-05T05:56:30.318726Z",
     "shell.execute_reply": "2022-02-05T05:56:30.317457Z",
     "shell.execute_reply.started": "2022-02-05T05:56:30.312270Z"
    },
    "tags": []
   },
   "outputs": [],
   "source": [
    "# shap.plots.beeswarm(slicer) # error, doesn't like multiple dims per feature-obsv"
   ]
  },
  {
   "cell_type": "code",
   "execution_count": 215,
   "id": "4e835fdd-c878-4268-bb40-c1980e068d3a",
   "metadata": {
    "execution": {
     "iopub.execute_input": "2022-02-05T06:40:06.559757Z",
     "iopub.status.busy": "2022-02-05T06:40:06.559434Z",
     "iopub.status.idle": "2022-02-05T06:40:06.575101Z",
     "shell.execute_reply": "2022-02-05T06:40:06.574342Z",
     "shell.execute_reply.started": "2022-02-05T06:40:06.559721Z"
    },
    "tags": []
   },
   "outputs": [
    {
     "data": {
      "text/plain": [
       "{'allow': {'Source Port': -0.00023410075349838543,\n",
       "  'Destination Port': 0.0010981993187839125,\n",
       "  'NAT Source Port': -0.00010751171575338413,\n",
       "  'NAT Destination Port': -9.196076827332771e-06,\n",
       "  'Bytes': -0.00030261130091397185,\n",
       "  'Bytes Sent': 0.00016831193316068057,\n",
       "  'Bytes Received': -0.002975122276534482,\n",
       "  'Packets': 0.002850171135818783,\n",
       "  'Elapsed Time (sec)': -0.000632969597936474,\n",
       "  'pkts_sent': 0.0030219113712961496,\n",
       "  'pkts_received': -0.004253301962731181},\n",
       " 'deny': {'Source Port': -0.0010033468737998066,\n",
       "  'Destination Port': -0.009236105434447656,\n",
       "  'NAT Source Port': 0.0014339639965306955,\n",
       "  'NAT Destination Port': 0.0041802677487997,\n",
       "  'Bytes': -0.001722406180666535,\n",
       "  'Bytes Sent': -0.0014950175960926006,\n",
       "  'Bytes Received': 0.0007026593325293719,\n",
       "  'Packets': 0.0035289593266259146,\n",
       "  'Elapsed Time (sec)': 0.003785849376134858,\n",
       "  'pkts_sent': -0.0029267792558281183,\n",
       "  'pkts_received': 0.0045636949480440114},\n",
       " 'drop': {'Source Port': 0.0011849704589898297,\n",
       "  'Destination Port': 0.007983386000388493,\n",
       "  'NAT Source Port': -0.00015657210241521967,\n",
       "  'NAT Destination Port': -0.002667203800515671,\n",
       "  'Bytes': 0.0016080201755076956,\n",
       "  'Bytes Sent': 0.0012716943963261608,\n",
       "  'Bytes Received': 0.0015871291945741977,\n",
       "  'Packets': -0.005948817884592538,\n",
       "  'Elapsed Time (sec)': -0.004916883034477563,\n",
       "  'pkts_sent': -0.0010917898692460258,\n",
       "  'pkts_received': 0.000733302659357106},\n",
       " 'reset-both': {'Source Port': 5.247716830839367e-05,\n",
       "  'Destination Port': 0.00015452011527604872,\n",
       "  'NAT Source Port': -0.0011698801783621446,\n",
       "  'NAT Destination Port': -0.0015038678714570778,\n",
       "  'Bytes': 0.00041699730607311526,\n",
       "  'Bytes Sent': 5.5011266605587656e-05,\n",
       "  'Bytes Received': 0.0006853337494312794,\n",
       "  'Packets': -0.0004303125778528143,\n",
       "  'Elapsed Time (sec)': 0.0017640032562787663,\n",
       "  'pkts_sent': 0.0009966577537777973,\n",
       "  'pkts_received': -0.0010436956446691107}}"
      ]
     },
     "execution_count": 215,
     "metadata": {},
     "output_type": "execute_result"
    }
   ],
   "source": [
    "# per class, per feature importances\n",
    "\n",
    "class_feature_imps = {cls.classes_[i] : dict(zip(slicer.feature_names, slicer.values[:,:,i].mean(axis=0))) for i in range(len(cls.classes_))}\n",
    "class_feature_imps"
   ]
  },
  {
   "cell_type": "markdown",
   "id": "36877871-d37b-403e-85c1-81e2740694fe",
   "metadata": {},
   "source": [
    "## XGBoost"
   ]
  },
  {
   "cell_type": "code",
   "execution_count": 51,
   "id": "cd47195e-0f21-494a-a32a-a7e1478d670e",
   "metadata": {
    "execution": {
     "iopub.execute_input": "2022-02-12T00:40:29.235407Z",
     "iopub.status.busy": "2022-02-12T00:40:29.235065Z",
     "iopub.status.idle": "2022-02-12T00:40:31.819309Z",
     "shell.execute_reply": "2022-02-12T00:40:31.818524Z",
     "shell.execute_reply.started": "2022-02-12T00:40:29.235370Z"
    },
    "tags": []
   },
   "outputs": [
    {
     "name": "stderr",
     "output_type": "stream",
     "text": [
      "ntree_limit is deprecated, use `iteration_range` or model slicing instead.\n"
     ]
    }
   ],
   "source": [
    "# xgboost\n",
    "\n",
    "cls = cls_xgb\n",
    "explainer = shap.Explainer(cls)\n",
    "\n",
    "slicer_xgb = explainer(X_test)"
   ]
  },
  {
   "cell_type": "code",
   "execution_count": 52,
   "id": "a84b1375-9f84-484b-bdaf-e83cab2d93fe",
   "metadata": {
    "execution": {
     "iopub.execute_input": "2022-02-12T00:40:32.812472Z",
     "iopub.status.busy": "2022-02-12T00:40:32.812060Z",
     "iopub.status.idle": "2022-02-12T00:40:32.819835Z",
     "shell.execute_reply": "2022-02-12T00:40:32.818259Z",
     "shell.execute_reply.started": "2022-02-12T00:40:32.812427Z"
    },
    "tags": []
   },
   "outputs": [
    {
     "name": "stdout",
     "output_type": "stream",
     "text": [
      "shap values shape: (16383, 11, 4)\n",
      "global expected value per class: [3.3614433, 0.46519274, -0.61681926, -2.3524716]\n"
     ]
    }
   ],
   "source": [
    "slicer = slicer_xgb\n",
    "print('shap values shape:', slicer.values.shape) # one value per feature, per observation, per class\n",
    "print('global expected value per class:', explainer.expected_value)"
   ]
  },
  {
   "cell_type": "markdown",
   "id": "93b43979-8ce5-4c3b-b431-3955d616a241",
   "metadata": {},
   "source": [
    "## Sklearn SVM"
   ]
  },
  {
   "cell_type": "code",
   "execution_count": 60,
   "id": "05e56ffd-798e-4f5e-aca0-b85536ad2fa8",
   "metadata": {
    "execution": {
     "iopub.execute_input": "2022-02-12T00:49:38.213001Z",
     "iopub.status.busy": "2022-02-12T00:49:38.212510Z",
     "iopub.status.idle": "2022-02-12T01:03:11.601833Z",
     "shell.execute_reply": "2022-02-12T01:03:11.601061Z",
     "shell.execute_reply.started": "2022-02-12T00:49:38.212946Z"
    },
    "tags": []
   },
   "outputs": [
    {
     "name": "stdout",
     "output_type": "stream",
     "text": [
      "<class 'shap.explainers._permutation.Permutation'>\n"
     ]
    },
    {
     "name": "stderr",
     "output_type": "stream",
     "text": [
      "Permutation explainer: 601it [13:32,  1.37s/it]                         \n"
     ]
    }
   ],
   "source": [
    "cls = cls_svm\n",
    "# X_test_trans = cls['standardscaler'].transform(X_test)\n",
    "# explainer = shap.KernelExplainer(cls.predict, shap.sample(X_train, 100))\n",
    "explainer = shap.Explainer(cls.predict_proba, shap.kmeans(X_train, 10).data)\n",
    "print(type(explainer))\n",
    "slicer_svm = explainer(X_test.sample(600)) # 6 hours for 16k rows, so doing subset"
   ]
  },
  {
   "cell_type": "code",
   "execution_count": 61,
   "id": "54f368fe-1f57-48bb-b16f-1aeb17c0e344",
   "metadata": {
    "execution": {
     "iopub.execute_input": "2022-02-12T01:03:11.603591Z",
     "iopub.status.busy": "2022-02-12T01:03:11.603287Z",
     "iopub.status.idle": "2022-02-12T01:03:11.607864Z",
     "shell.execute_reply": "2022-02-12T01:03:11.606830Z",
     "shell.execute_reply.started": "2022-02-12T01:03:11.603556Z"
    },
    "tags": []
   },
   "outputs": [
    {
     "name": "stdout",
     "output_type": "stream",
     "text": [
      "shap values shape: (600, 11, 4)\n"
     ]
    }
   ],
   "source": [
    "slicer = slicer_svm\n",
    "print('shap values shape:', slicer.values.shape) # one value per feature, per observation, per class\n",
    "# print('global expected value per class:', explainer.expected_value) # has no expected value attr\n",
    "print('global expected value per class:', slicer.base_values[0, :])"
   ]
  },
  {
   "cell_type": "markdown",
   "id": "c24b9e1e-3f88-4b2f-9f89-bbe27aeb1f9a",
   "metadata": {},
   "source": [
    "## Sklearn Logistic Regression"
   ]
  },
  {
   "cell_type": "code",
   "execution_count": 9,
   "id": "6c8ee7bf-83e0-4cb0-87f8-9877b636e6f7",
   "metadata": {
    "execution": {
     "iopub.execute_input": "2022-02-17T06:54:48.997709Z",
     "iopub.status.busy": "2022-02-17T06:54:48.997311Z",
     "iopub.status.idle": "2022-02-17T07:07:26.037112Z",
     "shell.execute_reply": "2022-02-17T07:07:26.035452Z",
     "shell.execute_reply.started": "2022-02-17T06:54:48.997664Z"
    },
    "tags": []
   },
   "outputs": [
    {
     "name": "stdout",
     "output_type": "stream",
     "text": [
      "<class 'shap.explainers._permutation.Permutation'>\n"
     ]
    },
    {
     "name": "stderr",
     "output_type": "stream",
     "text": [
      "Permutation explainer: 16384it [12:36, 21.45it/s]                           \n"
     ]
    }
   ],
   "source": [
    "cls = cls_log\n",
    "explainer = shap.Explainer(cls.predict_proba, X_train) # shap.kmeans(X_train, 10).data\n",
    "\n",
    "print(type(explainer))\n",
    "slicer_log = explainer(X_test)"
   ]
  },
  {
   "cell_type": "code",
   "execution_count": 16,
   "id": "6bfe7c05-2d19-4ae6-99e3-5c7d8ea087a3",
   "metadata": {
    "execution": {
     "iopub.execute_input": "2022-02-17T07:10:51.754931Z",
     "iopub.status.busy": "2022-02-17T07:10:51.754325Z",
     "iopub.status.idle": "2022-02-17T07:10:51.761853Z",
     "shell.execute_reply": "2022-02-17T07:10:51.760930Z",
     "shell.execute_reply.started": "2022-02-17T07:10:51.754872Z"
    },
    "tags": []
   },
   "outputs": [
    {
     "name": "stdout",
     "output_type": "stream",
     "text": [
      "shap values shape: (16383, 11, 4)\n",
      "global expected value per class: [0.52652932 0.26064219 0.21112591 0.00170258]\n"
     ]
    }
   ],
   "source": [
    "slicer = slicer_log\n",
    "print('shap values shape:', slicer.values.shape) # one value per feature, per observation, per class\n",
    "# print('global expected value per class:', explainer.expected_value) # , expected value doesn't exist for permutation explainer\n",
    "print('global expected value per class:', slicer.base_values[0, :])"
   ]
  },
  {
   "cell_type": "markdown",
   "id": "48511f2a-977a-419a-a932-4c4514400b52",
   "metadata": {},
   "source": [
    "# Plot Importances"
   ]
  },
  {
   "cell_type": "code",
   "execution_count": 29,
   "id": "b021786f-9e74-40cf-b584-12264db5921b",
   "metadata": {
    "execution": {
     "iopub.execute_input": "2022-02-08T21:58:00.891048Z",
     "iopub.status.busy": "2022-02-08T21:58:00.890601Z",
     "iopub.status.idle": "2022-02-08T21:58:08.453066Z",
     "shell.execute_reply": "2022-02-08T21:58:08.452262Z",
     "shell.execute_reply.started": "2022-02-08T21:58:00.890998Z"
    },
    "tags": []
   },
   "outputs": [
    {
     "data": {
      "image/png": "[encoded data removed]",
      "text/plain": [
       "<Figure size 748.8x576 with 4 Axes>"
      ]
     },
     "metadata": {
      "needs_background": "light"
     },
     "output_type": "display_data"
    }
   ],
   "source": [
    "# for each feature, for each class - avg importance\n",
    "\n",
    "slicer = slicer_skl\n",
    "cls = cls_skl\n",
    "shap_values = pd.DataFrame(np.concatenate([slicer.values[:,:,i]  for i in range(slicer.values.shape[-1])], axis=0), columns=X_test.columns)\n",
    "shap_values['class'] = np.array(cls.classes_).repeat(slicer.values.shape[0])\n",
    "shap_values['instance'] = np.tile(range(slicer.values.shape[0]), cls.n_classes_)\n",
    "shap_values = shap_values.melt(id_vars=['class', 'instance'], var_name='feature', value_name='shap')\n",
    "shap_values['abs_shap'] = np.abs(shap_values['shap'])\n",
    "\n",
    "g = sns.FacetGrid(shap_values, col='class', col_wrap=2, height=4, aspect=1.3)\n",
    "g.map_dataframe(sns.barplot, x='feature', y='abs_shap', estimator=np.mean)\n",
    "g.set_xticklabels(rotation=90)\n",
    "g.figure.suptitle('Sklearn Random Forest\\nMean Absolute SHAP value\\n(per class per feature)')\n",
    "g.tight_layout()\n",
    "\n",
    "\n",
    "# but wait...!!! the importances are almost totally different (even if logistic func is applied I imagine) between xgboost and sklearn random forrest!!\n",
    "\n"
   ]
  },
  {
   "cell_type": "code",
   "execution_count": 53,
   "id": "fb8cf94d-5080-4a15-86c4-e790845d9982",
   "metadata": {
    "execution": {
     "iopub.execute_input": "2022-02-12T00:40:43.961804Z",
     "iopub.status.busy": "2022-02-12T00:40:43.961174Z",
     "iopub.status.idle": "2022-02-12T00:40:52.159606Z",
     "shell.execute_reply": "2022-02-12T00:40:52.158961Z",
     "shell.execute_reply.started": "2022-02-12T00:40:43.961754Z"
    },
    "tags": []
   },
   "outputs": [
    {
     "data": {
      "image/png": "[encoded data removed]",
      "text/plain": [
       "<Figure size 748.8x576 with 4 Axes>"
      ]
     },
     "metadata": {
      "needs_background": "light"
     },
     "output_type": "display_data"
    }
   ],
   "source": [
    "slicer = slicer_xgb\n",
    "cls = cls_xgb\n",
    "\n",
    "shap_values = pd.DataFrame(np.concatenate([slicer.values[:,:,i]  for i in range(slicer.values.shape[-1])], axis=0), columns=X_test.columns)\n",
    "shap_values['class'] = np.array(cls.classes_).repeat(slicer.values.shape[0])\n",
    "shap_values['instance'] = np.tile(range(slicer.values.shape[0]), cls.n_classes_)\n",
    "shap_values = shap_values.melt(id_vars=['class', 'instance'], var_name='feature', value_name='shap')\n",
    "shap_values['abs_shap'] = np.abs(shap_values['shap'])\n",
    "shap_values['abs_shap_logistic'] = expit(shap_values['abs_shap']) # expit is symetric around 0, so transform after abs is fine\n",
    "\n",
    "g = sns.FacetGrid(shap_values, col='class', col_wrap=2, height=4, aspect=1.3)\n",
    "g.map_dataframe(sns.barplot, x='feature', y='abs_shap', estimator=np.mean)\n",
    "g.set_xticklabels(rotation=90)\n",
    "g.figure.suptitle('XGBoost\\nMean Absolute SHAP value\\n(per class per feature)')\n",
    "g.tight_layout()"
   ]
  },
  {
   "cell_type": "code",
   "execution_count": 54,
   "id": "98e197c6-cd70-4ba9-be73-bc19ce7b0066",
   "metadata": {
    "execution": {
     "iopub.execute_input": "2022-02-12T00:40:52.161600Z",
     "iopub.status.busy": "2022-02-12T00:40:52.161344Z",
     "iopub.status.idle": "2022-02-12T00:41:00.024935Z",
     "shell.execute_reply": "2022-02-12T00:41:00.024352Z",
     "shell.execute_reply.started": "2022-02-12T00:40:52.161569Z"
    },
    "tags": []
   },
   "outputs": [
    {
     "data": {
      "image/png": "[encoded data removed]",
      "text/plain": [
       "<Figure size 748.8x576 with 4 Axes>"
      ]
     },
     "metadata": {
      "needs_background": "light"
     },
     "output_type": "display_data"
    }
   ],
   "source": [
    "g = sns.FacetGrid(shap_values, col='class', col_wrap=2, height=4, aspect=1.3)\n",
    "g.map_dataframe(sns.barplot, x='feature', y='abs_shap_logistic', estimator=np.mean)\n",
    "g.set_xticklabels(rotation=90)\n",
    "g.figure.suptitle('XGBoost\\nMean Absolute **Logistic** SHAP value\\n(per class per feature)')\n",
    "g.tight_layout()"
   ]
  },
  {
   "cell_type": "code",
   "execution_count": 62,
   "id": "b4ed1a95-b807-49d5-b0c0-3bfb05fe6e3f",
   "metadata": {
    "execution": {
     "iopub.execute_input": "2022-02-12T01:03:11.610451Z",
     "iopub.status.busy": "2022-02-12T01:03:11.610207Z",
     "iopub.status.idle": "2022-02-12T01:03:13.499646Z",
     "shell.execute_reply": "2022-02-12T01:03:13.498851Z",
     "shell.execute_reply.started": "2022-02-12T01:03:11.610429Z"
    },
    "tags": []
   },
   "outputs": [
    {
     "data": {
      "image/png": "[encoded data removed]",
      "text/plain": [
       "<Figure size 748.8x576 with 4 Axes>"
      ]
     },
     "metadata": {
      "needs_background": "light"
     },
     "output_type": "display_data"
    }
   ],
   "source": [
    "slicer = slicer_svm\n",
    "cls = cls_svm\n",
    "\n",
    "shap_values = pd.DataFrame(np.concatenate([slicer.values[:,:,i]  for i in range(slicer.values.shape[-1])], axis=0), columns=X_test.columns)\n",
    "shap_values['class'] = np.array(cls.classes_).repeat(slicer.values.shape[0])\n",
    "shap_values['instance'] = np.tile(range(slicer.values.shape[0]), cls['svc'].classes_.shape[0])\n",
    "shap_values = shap_values.melt(id_vars=['class', 'instance'], var_name='feature', value_name='shap')\n",
    "shap_values['abs_shap'] = np.abs(shap_values['shap'])\n",
    "\n",
    "g = sns.FacetGrid(shap_values, col='class', col_wrap=2, height=4, aspect=1.3)\n",
    "g.map_dataframe(sns.barplot, x='feature', y='abs_shap', estimator=np.mean)\n",
    "g.set_xticklabels(rotation=90)\n",
    "g.figure.suptitle('Sklearn SVM\\nMean Absolute SHAP value\\n(per class per feature)')\n",
    "g.tight_layout()"
   ]
  },
  {
   "cell_type": "code",
   "execution_count": 19,
   "id": "635b49b9-7cea-4351-8708-7829133c90a0",
   "metadata": {
    "execution": {
     "iopub.execute_input": "2022-02-17T07:14:36.881108Z",
     "iopub.status.busy": "2022-02-17T07:14:36.880792Z",
     "iopub.status.idle": "2022-02-17T07:14:44.169297Z",
     "shell.execute_reply": "2022-02-17T07:14:44.168576Z",
     "shell.execute_reply.started": "2022-02-17T07:14:36.881077Z"
    },
    "tags": []
   },
   "outputs": [
    {
     "data": {
      "image/png": "[encoded data removed]",
      "text/plain": [
       "<Figure size 748.8x576 with 4 Axes>"
      ]
     },
     "metadata": {
      "needs_background": "light"
     },
     "output_type": "display_data"
    }
   ],
   "source": [
    "slicer = slicer_log\n",
    "cls = cls_log\n",
    "\n",
    "shap_values = pd.DataFrame(np.concatenate([slicer.values[:,:,i]  for i in range(slicer.values.shape[-1])], axis=0), columns=X_test.columns)\n",
    "shap_values['class'] = np.array(cls.classes_).repeat(slicer.values.shape[0])\n",
    "shap_values['instance'] = np.tile(range(slicer.values.shape[0]), cls['logisticregression'].classes_.shape[0])\n",
    "shap_values = shap_values.melt(id_vars=['class', 'instance'], var_name='feature', value_name='shap')\n",
    "shap_values['abs_shap'] = np.abs(shap_values['shap'])\n",
    "\n",
    "g = sns.FacetGrid(shap_values, col='class', col_wrap=2, height=4, aspect=1.3)\n",
    "g.map_dataframe(sns.barplot, x='feature', y='abs_shap', estimator=np.mean)\n",
    "g.set_xticklabels(rotation=90)\n",
    "g.figure.suptitle('Sklearn Logistic Regression\\nMean Absolute SHAP value\\n(per class per feature)')\n",
    "g.tight_layout()\n",
    "\n",
    "\n",
    "# ehhh. somewhere between XGBOOST and Random Forest"
   ]
  },
  {
   "cell_type": "code",
   "execution_count": 42,
   "id": "21182ed1-0133-4883-bce7-7c97acb7e0b3",
   "metadata": {
    "execution": {
     "iopub.execute_input": "2022-02-17T07:27:56.797663Z",
     "iopub.status.busy": "2022-02-17T07:27:56.797388Z",
     "iopub.status.idle": "2022-02-17T07:27:57.443650Z",
     "shell.execute_reply": "2022-02-17T07:27:57.442948Z",
     "shell.execute_reply.started": "2022-02-17T07:27:56.797637Z"
    },
    "tags": []
   },
   "outputs": [
    {
     "name": "stderr",
     "output_type": "stream",
     "text": [
      "overflow encountered in exp\n"
     ]
    },
    {
     "data": {
      "image/png": "[encoded data removed]",
      "text/plain": [
       "<Figure size 748.8x576 with 4 Axes>"
      ]
     },
     "metadata": {
      "needs_background": "light"
     },
     "output_type": "display_data"
    }
   ],
   "source": [
    "# logistic regression coeffcients (one-vs-rest per model)\n",
    "\n",
    "coefs = pd.DataFrame(\n",
    "    np.exp(cls_log['logisticregression'].coef_),\n",
    "    index=cls_log['logisticregression'].classes_,\n",
    "    columns = cls_log['standardscaler'].get_feature_names_out()\n",
    ")\n",
    "coefs = shap_values.unstack().reset_index()\n",
    "coefs.columns = ['feature', 'class', 'coef']\n",
    "# shap_values['abs_shap'] = np.abs(shap_values['shap'])\n",
    "\n",
    "\n",
    "g = sns.FacetGrid(coefs, col='class', col_wrap=2, height=4, aspect=1.3)\n",
    "g.map_dataframe(plt.bar, x='feature', height='coef',)\n",
    "g.set_xticklabels(rotation=90)\n",
    "g.figure.suptitle('Sklearn Logistic Regression\\nMean Absolute SHAP value\\n(per class per feature)')\n",
    "g.tight_layout()"
   ]
  },
  {
   "cell_type": "code",
   "execution_count": 43,
   "id": "80985560-8bb4-49bb-86a0-872bcc773b11",
   "metadata": {
    "execution": {
     "iopub.execute_input": "2022-02-22T06:47:14.535225Z",
     "iopub.status.busy": "2022-02-22T06:47:14.525991Z",
     "iopub.status.idle": "2022-02-22T06:47:14.708815Z",
     "shell.execute_reply": "2022-02-22T06:47:14.706337Z",
     "shell.execute_reply.started": "2022-02-22T06:47:14.532647Z"
    },
    "tags": []
   },
   "outputs": [],
   "source": [
    "# multiclass permutation importance"
   ]
  },
  {
   "cell_type": "code",
   "execution_count": 58,
   "id": "21ecbf00-96a0-4755-9152-e44523dc59e9",
   "metadata": {
    "execution": {
     "iopub.execute_input": "2022-02-12T00:46:04.077579Z",
     "iopub.status.busy": "2022-02-12T00:46:04.077224Z",
     "iopub.status.idle": "2022-02-12T00:46:04.083812Z",
     "shell.execute_reply": "2022-02-12T00:46:04.082541Z",
     "shell.execute_reply.started": "2022-02-12T00:46:04.077541Z"
    },
    "tags": []
   },
   "outputs": [
    {
     "data": {
      "text/plain": [
       "4"
      ]
     },
     "execution_count": 58,
     "metadata": {},
     "output_type": "execute_result"
    }
   ],
   "source": [
    "# \n",
    "\n",
    "#TODO: Use Chi-sq to get measure of association between distributions\n",
    "# - or could pair-wise correlation of feature importance across each model by pairs work too"
   ]
  },
  {
   "cell_type": "markdown",
   "id": "5259dec8-45df-453f-ae2d-534fa5cd3eae",
   "metadata": {},
   "source": [
    "**Discussion**  \n",
    "The extremely high accuarcy here might be sysmptom of the same phenomenon that creates such varying feature importances by model type: highly separable data. The classes overall must be very highly separable, and as a result there maybe a wide range of decision boundaries that effectively separate teh classes. Different models settling on very different decision boundaries *maybe* causing differences in feature importances (and I say maybe bc I don't fully understand how the shap values are calculated."
   ]
  },
  {
   "cell_type": "code",
   "execution_count": 222,
   "id": "2a3357b2-3539-4790-a130-105f6f4a4096",
   "metadata": {
    "execution": {
     "iopub.execute_input": "2022-02-05T06:41:57.614480Z",
     "iopub.status.busy": "2022-02-05T06:41:57.614036Z",
     "iopub.status.idle": "2022-02-05T06:42:03.882818Z",
     "shell.execute_reply": "2022-02-05T06:42:03.882040Z",
     "shell.execute_reply.started": "2022-02-05T06:41:57.614431Z"
    },
    "tags": []
   },
   "outputs": [
    {
     "data": {
      "text/plain": [
       "[Text(0.5, 1.0, 'Mean Absolute SHAP value Across All Classes')]"
      ]
     },
     "execution_count": 222,
     "metadata": {},
     "output_type": "execute_result"
    },
    {
     "data": {
      "image/png": "[encoded data removed]",
      "text/plain": [
       "<Figure size 432x288 with 1 Axes>"
      ]
     },
     "metadata": {
      "needs_background": "light"
     },
     "output_type": "display_data"
    }
   ],
   "source": [
    "# mean absolute shap value across all classes\n",
    "\n",
    "ax = sns.barplot( x='feature', y='abs_shap', estimator=np.mean, data=shap_values)\n",
    "ax.set_xticklabels(ax.get_xticklabels(), ha='left',  rotation=-45)\n",
    "ax.set(title='Mean Absolute SHAP value Across All Classes')"
   ]
  },
  {
   "cell_type": "code",
   "execution_count": 223,
   "id": "833aabab-edab-467d-80a8-595d1d6bffc2",
   "metadata": {
    "execution": {
     "iopub.execute_input": "2022-02-05T06:42:14.779609Z",
     "iopub.status.busy": "2022-02-05T06:42:14.779127Z",
     "iopub.status.idle": "2022-02-05T06:42:15.800542Z",
     "shell.execute_reply": "2022-02-05T06:42:15.799914Z",
     "shell.execute_reply.started": "2022-02-05T06:42:14.779570Z"
    },
    "tags": []
   },
   "outputs": [
    {
     "data": {
      "image/png": "[encoded data removed]",
      "text/plain": [
       "<Figure size 432x288 with 2 Axes>"
      ]
     },
     "metadata": {
      "needs_background": "light"
     },
     "output_type": "display_data"
    },
    {
     "data": {
      "image/png": "[encoded data removed]",
      "text/plain": [
       "<Figure size 432x288 with 2 Axes>"
      ]
     },
     "metadata": {
      "needs_background": "light"
     },
     "output_type": "display_data"
    },
    {
     "data": {
      "image/png": "[encoded data removed]",
      "text/plain": [
       "<Figure size 432x288 with 2 Axes>"
      ]
     },
     "metadata": {
      "needs_background": "light"
     },
     "output_type": "display_data"
    },
    {
     "data": {
      "image/png": "[encoded data removed]",
      "text/plain": [
       "<Figure size 432x288 with 2 Axes>"
      ]
     },
     "metadata": {
      "needs_background": "light"
     },
     "output_type": "display_data"
    }
   ],
   "source": [
    "# Shap dependence plot for each class, for single feature\n",
    "\n",
    "for i in range(len(cls.classes_)):\n",
    "    fig, ax = plt.subplots()\n",
    "    shap.plots.scatter(slicer[:,\"NAT Source Port\", i], ax=ax)\n",
    "    ax.set(title=f'{cls.classes_[i]}')\n",
    "\n"
   ]
  },
  {
   "cell_type": "code",
   "execution_count": 141,
   "id": "aad403a2-1898-4692-864a-4b40c3928b75",
   "metadata": {
    "execution": {
     "iopub.execute_input": "2022-02-05T04:57:32.579480Z",
     "iopub.status.busy": "2022-02-05T04:57:32.579032Z",
     "iopub.status.idle": "2022-02-05T04:57:32.585582Z",
     "shell.execute_reply": "2022-02-05T04:57:32.584023Z",
     "shell.execute_reply.started": "2022-02-05T04:57:32.579441Z"
    }
   },
   "outputs": [],
   "source": []
  },
  {
   "cell_type": "code",
   "execution_count": null,
   "id": "e92a79f2-4016-472c-a55c-76fee3a49a69",
   "metadata": {},
   "outputs": [],
   "source": []
  }
 ],
 "metadata": {
  "kernelspec": {
   "display_name": "Python 3 (ipykernel)",
   "language": "python",
   "name": "python3"
  },
  "language_info": {
   "codemirror_mode": {
    "name": "ipython",
    "version": 3
   },
   "file_extension": ".py",
   "mimetype": "text/x-python",
   "name": "python",
   "nbconvert_exporter": "python",
   "pygments_lexer": "ipython3",
   "version": "3.8.2"
  }
 },
 "nbformat": 4,
 "nbformat_minor": 5
}
